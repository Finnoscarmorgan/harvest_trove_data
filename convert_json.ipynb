{
 "cells": [
  {
   "cell_type": "code",
   "execution_count": 13,
   "metadata": {},
   "outputs": [],
   "source": [
    "import datetime\n",
    "import os\n",
    "import re\n",
    "import time\n",
    "from tqdm import tqdm\n",
    "from selenium import webdriver\n",
    "import requests\n",
    "import json\n",
    "\n",
    "import os\n",
    "import requests\n",
    "import fuzzysearch\n",
    "import pandas as pd\n",
    "import numpy as np\n",
    "from bs4 import BeautifulSoup\n",
    "import json\n",
    "import spacy\n",
    "\n",
    "import pandas as pd\n",
    "import requests_cache\n",
    "from IPython.display import HTML, display\n",
    "from requests.adapters import HTTPAdapter\n",
    "from requests.packages.urllib3.util.retry import Retry\n",
    "from tqdm.auto import tqdm\n",
    "\n",
    "s = requests_cache.CachedSession()\n",
    "retries = Retry(total=10, backoff_factor=0.2, status_forcelist=[500, 502, 503, 504])\n",
    "s.mount(\"http://\", HTTPAdapter(max_retries=retries))\n",
    "s.mount(\"https://\", HTTPAdapter(max_retries=retries))"
   ]
  },
  {
   "cell_type": "code",
   "execution_count": 14,
   "metadata": {},
   "outputs": [
    {
     "name": "stdout",
     "output_type": "stream",
     "text": [
      "Total results retrieved: 5719\n"
     ]
    }
   ],
   "source": [
    "\n",
    "\n",
    "api_key = \"PUT YOUR API KEY HERE\"  # ADD YOUR API KEY HERE\n",
    "\n",
    "api_url = \"https://api.trove.nla.gov.au/v3/result\"\n",
    "\n",
    "# Initialize an empty list to store all the results\n",
    "all_results = []\n",
    "\n",
    "# Initial params for the first request\n",
    "params = {\n",
    "    \"q\": \"marriage\",\n",
    "    \"category\": \"magazine\",\n",
    "    \"encoding\": \"json\",\n",
    "    \"l-title\": \"The Australian woman's mirror\",\n",
    "    \"key\": api_key,\n",
    "    \"n\": 100,  # You can set this to the maximum allowed, which seems to be 100\n",
    "    # \"l-year\": \"1930\",\n",
    "    \"include\": \"workversions\"\n",
    "}\n",
    "\n",
    "while True:\n",
    "    response = requests.get(api_url, params=params)\n",
    "    \n",
    "    if response.status_code != 200:\n",
    "        print(f\"Error {response.status_code}: {response.content}\")\n",
    "        break\n",
    "    \n",
    "    data = response.json()\n",
    "    \n",
    "    # Extract magazine_data using the corrected path\n",
    "    magazine_data = data.get(\"category\", [{}])[0].get(\"records\", {})\n",
    "    \n",
    "    all_results.extend(magazine_data.get(\"work\", []))\n",
    "    \n",
    "    # Check if there's a nextStart value to continue fetching more results\n",
    "    if \"nextStart\" in magazine_data:\n",
    "        params[\"s\"] = magazine_data[\"nextStart\"]\n",
    "    else:\n",
    "        break  # No more results to fetch, exit the loop\n",
    "\n",
    "print(\"Total results retrieved:\", len(all_results))\n",
    "\n",
    "# Save all the results to a JSON file\n",
    "with open(\"trove_data_dump_download.json\", \"w\", encoding=\"utf-8\") as json_file:\n",
    "    json.dump(all_results, json_file, ensure_ascii=False, indent=4)"
   ]
  }
 ],
 "metadata": {
  "kernelspec": {
   "display_name": "Archive_Network",
   "language": "python",
   "name": "python3"
  },
  "language_info": {
   "codemirror_mode": {
    "name": "ipython",
    "version": 3
   },
   "file_extension": ".py",
   "mimetype": "text/x-python",
   "name": "python",
   "nbconvert_exporter": "python",
   "pygments_lexer": "ipython3",
   "version": "3.8.16"
  },
  "orig_nbformat": 4
 },
 "nbformat": 4,
 "nbformat_minor": 2
}
